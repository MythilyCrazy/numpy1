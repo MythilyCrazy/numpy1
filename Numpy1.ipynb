{
  "nbformat": 4,
  "nbformat_minor": 0,
  "metadata": {
    "colab": {
      "provenance": [],
      "authorship_tag": "ABX9TyOI7P8xkQkgzCtqHarPejYR",
      "include_colab_link": true
    },
    "kernelspec": {
      "name": "python3",
      "display_name": "Python 3"
    },
    "language_info": {
      "name": "python"
    }
  },
  "cells": [
    {
      "cell_type": "markdown",
      "metadata": {
        "id": "view-in-github",
        "colab_type": "text"
      },
      "source": [
        "<a href=\"https://colab.research.google.com/github/MythilyCrazy/numpy1/blob/main/Numpy1.ipynb\" target=\"_parent\"><img src=\"https://colab.research.google.com/assets/colab-badge.svg\" alt=\"Open In Colab\"/></a>"
      ]
    },
    {
      "cell_type": "code",
      "execution_count": null,
      "metadata": {
        "id": "NNWt-TCK_rzb"
      },
      "outputs": [],
      "source": [
        "import numpy as np"
      ]
    },
    {
      "cell_type": "code",
      "source": [
        "#numpy supports conceptual array"
      ],
      "metadata": {
        "id": "2SybdfE2AMQT"
      },
      "execution_count": null,
      "outputs": []
    },
    {
      "cell_type": "code",
      "source": [
        "#scalar dimension array\n",
        "arr1 = np.array(5)\n",
        "arr1.ndim"
      ],
      "metadata": {
        "colab": {
          "base_uri": "https://localhost:8080/"
        },
        "id": "1QWDIhILARGx",
        "outputId": "16013811-51c0-4ad6-ec23-9d7b0ceb044e"
      },
      "execution_count": null,
      "outputs": [
        {
          "output_type": "execute_result",
          "data": {
            "text/plain": [
              "0"
            ]
          },
          "metadata": {},
          "execution_count": 5
        }
      ]
    },
    {
      "cell_type": "code",
      "source": [
        "type(arr1)"
      ],
      "metadata": {
        "colab": {
          "base_uri": "https://localhost:8080/"
        },
        "id": "Lm-Ovs4WAv-b",
        "outputId": "5e4e6c7e-b036-45f6-dc69-da986c7f04ea"
      },
      "execution_count": null,
      "outputs": [
        {
          "output_type": "execute_result",
          "data": {
            "text/plain": [
              "numpy.ndarray"
            ]
          },
          "metadata": {},
          "execution_count": 6
        }
      ]
    },
    {
      "cell_type": "code",
      "source": [
        "#one dimension array\n",
        "arr2 = np.array([1,2,3])\n",
        "arr2.ndim"
      ],
      "metadata": {
        "colab": {
          "base_uri": "https://localhost:8080/"
        },
        "id": "M9XKxwblAzZU",
        "outputId": "5f25ed2f-05ce-4f6f-e9d1-330f19fdfaa5"
      },
      "execution_count": null,
      "outputs": [
        {
          "output_type": "execute_result",
          "data": {
            "text/plain": [
              "1"
            ]
          },
          "metadata": {},
          "execution_count": 9
        }
      ]
    },
    {
      "cell_type": "code",
      "source": [
        "#two dimension array\n",
        "arr3 = np.array([[1,2,3],[4,5,6]],dtype=float)\n",
        "arr3"
      ],
      "metadata": {
        "colab": {
          "base_uri": "https://localhost:8080/"
        },
        "id": "q-q8ctHFBPOC",
        "outputId": "234aedd3-a9a4-4bf7-ed43-cbfdc2b1c974"
      },
      "execution_count": null,
      "outputs": [
        {
          "output_type": "execute_result",
          "data": {
            "text/plain": [
              "array([[1., 2., 3.],\n",
              "       [4., 5., 6.]])"
            ]
          },
          "metadata": {},
          "execution_count": 18
        }
      ]
    },
    {
      "cell_type": "code",
      "source": [
        "arr3.ndim"
      ],
      "metadata": {
        "colab": {
          "base_uri": "https://localhost:8080/"
        },
        "id": "HJ0-SZ3vCMZF",
        "outputId": "6900ca21-9158-4cb8-d6ad-821557ce70f9"
      },
      "execution_count": null,
      "outputs": [
        {
          "output_type": "execute_result",
          "data": {
            "text/plain": [
              "2"
            ]
          },
          "metadata": {},
          "execution_count": 17
        }
      ]
    },
    {
      "cell_type": "code",
      "source": [
        "#three dimension array\n",
        "arr4 = np.array([[[1,2,3],[4,5,6]],[[7,8,9],[10,11,12]]])\n",
        "arr4\n"
      ],
      "metadata": {
        "colab": {
          "base_uri": "https://localhost:8080/"
        },
        "id": "zafdr81JCPrq",
        "outputId": "5c91f8e4-4543-40dc-e537-804e32b21002"
      },
      "execution_count": null,
      "outputs": [
        {
          "output_type": "execute_result",
          "data": {
            "text/plain": [
              "array([[[ 1,  2,  3],\n",
              "        [ 4,  5,  6]],\n",
              "\n",
              "       [[ 7,  8,  9],\n",
              "        [10, 11, 12]]])"
            ]
          },
          "metadata": {},
          "execution_count": 20
        }
      ]
    },
    {
      "cell_type": "code",
      "source": [
        "#dimension\n",
        "arr4.ndim"
      ],
      "metadata": {
        "colab": {
          "base_uri": "https://localhost:8080/"
        },
        "id": "BQqtC6jLC08D",
        "outputId": "1f178a3f-a5ff-48c7-8cfe-0a01a680dfca"
      },
      "execution_count": null,
      "outputs": [
        {
          "output_type": "execute_result",
          "data": {
            "text/plain": [
              "3"
            ]
          },
          "metadata": {},
          "execution_count": 21
        }
      ]
    },
    {
      "cell_type": "code",
      "source": [
        "#defining no.of.dimensions or converting one dim into another dim\n",
        "import numpy as np\n",
        "b1 = np.array([1,2,3,4],ndmin=6)\n",
        "b1"
      ],
      "metadata": {
        "colab": {
          "base_uri": "https://localhost:8080/"
        },
        "id": "u07nBZzvDVms",
        "outputId": "7622d18e-a04a-40a2-bbd7-7ff1403d9aa0"
      },
      "execution_count": null,
      "outputs": [
        {
          "output_type": "execute_result",
          "data": {
            "text/plain": [
              "array([[[[[[1, 2, 3, 4]]]]]])"
            ]
          },
          "metadata": {},
          "execution_count": 3
        }
      ]
    },
    {
      "cell_type": "code",
      "source": [
        "#creating array of zeroes\n",
        "z = np.zeros((2,3),dtype=int)\n",
        "z"
      ],
      "metadata": {
        "colab": {
          "base_uri": "https://localhost:8080/"
        },
        "id": "2V7477h2GD89",
        "outputId": "73ca757f-368d-46fa-be7c-1bfc86ecefe3"
      },
      "execution_count": null,
      "outputs": [
        {
          "output_type": "execute_result",
          "data": {
            "text/plain": [
              "array([[0, 0, 0],\n",
              "       [0, 0, 0]])"
            ]
          },
          "metadata": {},
          "execution_count": 30
        }
      ]
    },
    {
      "cell_type": "code",
      "source": [
        "#creating array of ones\n",
        "o = np.ones((3,3),dtype=int)\n",
        "o"
      ],
      "metadata": {
        "colab": {
          "base_uri": "https://localhost:8080/"
        },
        "id": "qhIU-vmIHohR",
        "outputId": "bb80b794-269d-498b-d138-f305759c2dec"
      },
      "execution_count": null,
      "outputs": [
        {
          "output_type": "execute_result",
          "data": {
            "text/plain": [
              "array([[1, 1, 1],\n",
              "       [1, 1, 1],\n",
              "       [1, 1, 1]])"
            ]
          },
          "metadata": {},
          "execution_count": 32
        }
      ]
    },
    {
      "cell_type": "code",
      "source": [
        "#creating identity matrix in which diagnols are 1.\n",
        "i = np.eye((3),dtype=int)\n",
        "i"
      ],
      "metadata": {
        "colab": {
          "base_uri": "https://localhost:8080/"
        },
        "id": "vCFJlpnPJMzL",
        "outputId": "4b69b9cd-f6aa-49df-e71f-a93c8306bc0e"
      },
      "execution_count": null,
      "outputs": [
        {
          "output_type": "execute_result",
          "data": {
            "text/plain": [
              "array([[1, 0, 0],\n",
              "       [0, 1, 0],\n",
              "       [0, 0, 1]])"
            ]
          },
          "metadata": {},
          "execution_count": 35
        }
      ]
    },
    {
      "cell_type": "code",
      "source": [
        "i = np.eye(3,5)\n",
        "i"
      ],
      "metadata": {
        "colab": {
          "base_uri": "https://localhost:8080/"
        },
        "id": "JCd6MQDwJfab",
        "outputId": "74aa136e-8eba-4b0a-be63-7e6e6721bb65"
      },
      "execution_count": null,
      "outputs": [
        {
          "output_type": "execute_result",
          "data": {
            "text/plain": [
              "array([[1., 0., 0., 0., 0.],\n",
              "       [0., 1., 0., 0., 0.],\n",
              "       [0., 0., 1., 0., 0.]])"
            ]
          },
          "metadata": {},
          "execution_count": 41
        }
      ]
    },
    {
      "cell_type": "code",
      "source": [
        "i = np.eye(4,k=-1)\n",
        "i"
      ],
      "metadata": {
        "colab": {
          "base_uri": "https://localhost:8080/"
        },
        "id": "plEDlqO8KHtJ",
        "outputId": "29f77075-cbad-448f-e581-56f51bf252b2"
      },
      "execution_count": null,
      "outputs": [
        {
          "output_type": "execute_result",
          "data": {
            "text/plain": [
              "array([[0., 0., 0., 0.],\n",
              "       [1., 0., 0., 0.],\n",
              "       [0., 1., 0., 0.],\n",
              "       [0., 0., 1., 0.]])"
            ]
          },
          "metadata": {},
          "execution_count": 42
        }
      ]
    },
    {
      "cell_type": "code",
      "source": [
        "i = np.eye(4,k=2)\n",
        "i"
      ],
      "metadata": {
        "colab": {
          "base_uri": "https://localhost:8080/"
        },
        "id": "Uv0m1Wd6KNRc",
        "outputId": "1f20f500-9373-4ea9-9f73-0c3d7068388c"
      },
      "execution_count": null,
      "outputs": [
        {
          "output_type": "execute_result",
          "data": {
            "text/plain": [
              "array([[0., 0., 1., 0.],\n",
              "       [0., 0., 0., 1.],\n",
              "       [0., 0., 0., 0.],\n",
              "       [0., 0., 0., 0.]])"
            ]
          },
          "metadata": {},
          "execution_count": 44
        }
      ]
    },
    {
      "cell_type": "code",
      "source": [
        "i = np.eye((5),dtype=int)\n",
        "i"
      ],
      "metadata": {
        "colab": {
          "base_uri": "https://localhost:8080/"
        },
        "id": "VM6RxGpxKX2-",
        "outputId": "db1fc84c-00af-4009-cc83-7f6634339e21"
      },
      "execution_count": null,
      "outputs": [
        {
          "output_type": "execute_result",
          "data": {
            "text/plain": [
              "array([[1, 0, 0, 0, 0],\n",
              "       [0, 1, 0, 0, 0],\n",
              "       [0, 0, 1, 0, 0],\n",
              "       [0, 0, 0, 1, 0],\n",
              "       [0, 0, 0, 0, 1]])"
            ]
          },
          "metadata": {},
          "execution_count": 45
        }
      ]
    },
    {
      "cell_type": "code",
      "source": [
        "a = np.arange(2,2000,500)\n",
        "a"
      ],
      "metadata": {
        "colab": {
          "base_uri": "https://localhost:8080/"
        },
        "id": "3SrUxCoVKl5n",
        "outputId": "206993e1-6186-4fde-eb49-478ed2d305c8"
      },
      "execution_count": null,
      "outputs": [
        {
          "output_type": "execute_result",
          "data": {
            "text/plain": [
              "array([   2,  502, 1002, 1502])"
            ]
          },
          "metadata": {},
          "execution_count": 46
        }
      ]
    },
    {
      "cell_type": "code",
      "source": [
        "#Accessing array elements\n",
        "a=np.array([10,20,30,40])\n",
        "print(a[0])\n",
        "print(a[1])\n",
        "print(a[2])\n",
        "print(a[2]+a[3])"
      ],
      "metadata": {
        "colab": {
          "base_uri": "https://localhost:8080/"
        },
        "id": "ZjJ9XOZaOfcS",
        "outputId": "88b80251-04f9-4b7f-fcda-b23c5c1e3d71"
      },
      "execution_count": null,
      "outputs": [
        {
          "output_type": "stream",
          "name": "stdout",
          "text": [
            "10\n",
            "20\n",
            "30\n",
            "70\n"
          ]
        }
      ]
    },
    {
      "cell_type": "code",
      "source": [
        "#Access 2d array\n",
        "a = np.array([[1,2,3],[4,5,6]])\n",
        "print(a[1,1])"
      ],
      "metadata": {
        "colab": {
          "base_uri": "https://localhost:8080/"
        },
        "id": "_Au1Q_zQPetv",
        "outputId": "240ce803-214e-49d1-fcf4-f47c5bdfa91e"
      },
      "execution_count": null,
      "outputs": [
        {
          "output_type": "stream",
          "name": "stdout",
          "text": [
            "5\n"
          ]
        }
      ]
    },
    {
      "cell_type": "code",
      "source": [
        "#Access 3d array\n",
        "a = np.array([[[1,2,3],[4,5,6]],[[7,8,9],[10,11,12]]])\n",
        "print(a[0,1,2])\n",
        "print(a[0,0,2])\n",
        "print(a[1,0,0])\n",
        "print(a[1,1,2])"
      ],
      "metadata": {
        "colab": {
          "base_uri": "https://localhost:8080/"
        },
        "id": "pCTyXeWtOlfb",
        "outputId": "051500b8-efca-4770-edfe-73caba39074c"
      },
      "execution_count": null,
      "outputs": [
        {
          "output_type": "stream",
          "name": "stdout",
          "text": [
            "6\n",
            "3\n",
            "7\n",
            "12\n"
          ]
        }
      ]
    },
    {
      "cell_type": "code",
      "source": [
        "#access negative indexing\n",
        "a = np.array([[1,2,3,5,6],[4,5,6,7,8]])\n",
        "print(a[0,4])\n",
        "print(a[0,-3])\n",
        "print(a[1,2])\n",
        "print(a[1,-5])"
      ],
      "metadata": {
        "colab": {
          "base_uri": "https://localhost:8080/"
        },
        "id": "run91TZqRavb",
        "outputId": "720eae88-b673-4dbc-a4ac-851fcc135855"
      },
      "execution_count": null,
      "outputs": [
        {
          "output_type": "stream",
          "name": "stdout",
          "text": [
            "6\n",
            "3\n",
            "6\n",
            "4\n"
          ]
        }
      ]
    },
    {
      "cell_type": "code",
      "source": [
        "#slicing array\n",
        "import numpy as np\n",
        "\n",
        "a = np.array([10,30,50,70,90,100])\n",
        "print(a[-1])\n",
        "print(a[0:3])\n",
        "print(a[-3])\n",
        "print(a[::3])"
      ],
      "metadata": {
        "colab": {
          "base_uri": "https://localhost:8080/"
        },
        "id": "yknfboezWgXi",
        "outputId": "d41b5696-5164-47ce-bafe-dafdf7bca2ff"
      },
      "execution_count": null,
      "outputs": [
        {
          "output_type": "stream",
          "name": "stdout",
          "text": [
            "100\n",
            "[10 30 50]\n",
            "70\n",
            "[10 70]\n"
          ]
        }
      ]
    },
    {
      "cell_type": "code",
      "source": [
        "import numpy as np\n",
        "a = np.array([[15,12,78,32],[89,76,52,31]])\n",
        "print(a[0,0:4])\n",
        "print(a[1,2])\n",
        "print(a[0:2,2])\n",
        "print(a[0:2,1:3])"
      ],
      "metadata": {
        "colab": {
          "base_uri": "https://localhost:8080/"
        },
        "id": "45aw5K_fVAbs",
        "outputId": "7c65d17c-3305-41df-b8ff-44407e52d304"
      },
      "execution_count": null,
      "outputs": [
        {
          "output_type": "stream",
          "name": "stdout",
          "text": [
            "[15 12 78 32]\n",
            "52\n",
            "[78 52]\n",
            "[[12 78]\n",
            " [76 52]]\n"
          ]
        }
      ]
    },
    {
      "cell_type": "code",
      "source": [
        "#datatype\n",
        "a = np.array([1,2,3,4])\n",
        "print(a.dtype)"
      ],
      "metadata": {
        "colab": {
          "base_uri": "https://localhost:8080/"
        },
        "id": "qgx5dODmX_9y",
        "outputId": "98b3d8f2-e1d1-408a-e607-b01dae1089aa"
      },
      "execution_count": null,
      "outputs": [
        {
          "output_type": "stream",
          "name": "stdout",
          "text": [
            "int64\n"
          ]
        }
      ]
    },
    {
      "cell_type": "code",
      "source": [
        "a = np.array([1,2,3,4],dtype = 'S')\n",
        "print(a.dtype)"
      ],
      "metadata": {
        "colab": {
          "base_uri": "https://localhost:8080/"
        },
        "id": "DLQmGyOJYQBp",
        "outputId": "7982c6d2-b2ed-43ee-ce97-533b33a0aff1"
      },
      "execution_count": null,
      "outputs": [
        {
          "output_type": "stream",
          "name": "stdout",
          "text": [
            "|S1\n"
          ]
        }
      ]
    },
    {
      "cell_type": "code",
      "source": [
        "a = np.array([1.2,2.1,0])\n",
        "b = a.astype(int)\n",
        "print(b)\n",
        "print(b.dtype)\n",
        "c = b.astype(bool)\n",
        "print(c)\n",
        "print(c.dtype)"
      ],
      "metadata": {
        "colab": {
          "base_uri": "https://localhost:8080/"
        },
        "id": "GHoiac4vZEKS",
        "outputId": "d6af7b84-8e11-4735-b115-73abc61bc9b3"
      },
      "execution_count": null,
      "outputs": [
        {
          "output_type": "stream",
          "name": "stdout",
          "text": [
            "[1 2 0]\n",
            "int64\n",
            "[ True  True False]\n",
            "bool\n"
          ]
        }
      ]
    },
    {
      "cell_type": "code",
      "source": [
        "a = np.array([10,20,30,40,50])\n",
        "b = a.copy()\n",
        "a[2]=90\n",
        "print(a)\n",
        "print(b)\n"
      ],
      "metadata": {
        "colab": {
          "base_uri": "https://localhost:8080/"
        },
        "id": "3x_JHZhzZ3Yo",
        "outputId": "034d02eb-bf2f-4135-e3c1-2ecce1c57bac"
      },
      "execution_count": null,
      "outputs": [
        {
          "output_type": "stream",
          "name": "stdout",
          "text": [
            "[10 20 90 40 50]\n",
            "[10 20 30 40 50]\n"
          ]
        }
      ]
    },
    {
      "cell_type": "code",
      "source": [
        "a = np.array([10,20,30,40,50])\n",
        "b = a.view()\n",
        "a[2]=90\n",
        "print(a)\n",
        "print(b)"
      ],
      "metadata": {
        "id": "KS53SYx2aa8j",
        "outputId": "e94d625b-6a30-4c73-e73a-377b19b69457",
        "colab": {
          "base_uri": "https://localhost:8080/"
        }
      },
      "execution_count": null,
      "outputs": [
        {
          "output_type": "stream",
          "name": "stdout",
          "text": [
            "[10 20 90 40 50]\n",
            "[10 20 90 40 50]\n"
          ]
        }
      ]
    }
  ]
}